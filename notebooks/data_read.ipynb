{
 "cells": [
  {
   "cell_type": "code",
   "execution_count": 1,
   "metadata": {},
   "outputs": [],
   "source": [
    "import os\n",
    "import numpy as np\n",
    "import random\n",
    "import pandas as pd"
   ]
  },
  {
   "cell_type": "code",
   "execution_count": 2,
   "metadata": {},
   "outputs": [],
   "source": [
    "output_dir = '../data/dataset'\n",
    "dataset_name = 'validation_waterbird'"
   ]
  },
  {
   "cell_type": "code",
   "execution_count": 5,
   "metadata": {},
   "outputs": [],
   "source": [
    "dataset_path = os.path.join(output_dir, dataset_name, 'metadata.csv')\n",
    "\n",
    "df = pd.read_csv(dataset_path)\n",
    "df_train = df[df['split'] == 0]\n",
    "df_val = df[df['split'] == 1]\n",
    "df_test = df[df['split'] == 2]"
   ]
  },
  {
   "cell_type": "code",
   "execution_count": 11,
   "metadata": {},
   "outputs": [
    {
     "name": "stdout",
     "output_type": "stream",
     "text": [
      "0.9498175182481752\n",
      "0.05001351716680184\n"
     ]
    }
   ],
   "source": [
    "print(df_train[df_train['y'] == 1]['place'].mean())\n",
    "print(df_train[df_train['y'] == 0]['place'].mean())"
   ]
  },
  {
   "cell_type": "code",
   "execution_count": 13,
   "metadata": {},
   "outputs": [
    {
     "name": "stdout",
     "output_type": "stream",
     "text": [
      "0.5017667844522968\n",
      "0.5\n"
     ]
    }
   ],
   "source": [
    "print(df_val[df_val['y'] == 1]['place'].mean())\n",
    "print(df_val[df_val['y'] == 0]['place'].mean())"
   ]
  },
  {
   "cell_type": "code",
   "execution_count": 14,
   "metadata": {},
   "outputs": [
    {
     "name": "stdout",
     "output_type": "stream",
     "text": [
      "0.5\n",
      "0.5\n"
     ]
    }
   ],
   "source": [
    "print(df_test[df_test['y'] == 1]['place'].mean())\n",
    "print(df_test[df_test['y'] == 0]['place'].mean())"
   ]
  },
  {
   "cell_type": "code",
   "execution_count": 15,
   "metadata": {},
   "outputs": [
    {
     "data": {
      "text/html": [
       "<div>\n",
       "<style scoped>\n",
       "    .dataframe tbody tr th:only-of-type {\n",
       "        vertical-align: middle;\n",
       "    }\n",
       "\n",
       "    .dataframe tbody tr th {\n",
       "        vertical-align: top;\n",
       "    }\n",
       "\n",
       "    .dataframe thead th {\n",
       "        text-align: right;\n",
       "    }\n",
       "</style>\n",
       "<table border=\"1\" class=\"dataframe\">\n",
       "  <thead>\n",
       "    <tr style=\"text-align: right;\">\n",
       "      <th></th>\n",
       "      <th>img_id</th>\n",
       "      <th>img_filename</th>\n",
       "      <th>y</th>\n",
       "      <th>split</th>\n",
       "      <th>place</th>\n",
       "      <th>water_img</th>\n",
       "      <th>land_img</th>\n",
       "      <th>place_image</th>\n",
       "    </tr>\n",
       "  </thead>\n",
       "  <tbody>\n",
       "    <tr>\n",
       "      <th>1</th>\n",
       "      <td>2</td>\n",
       "      <td>001.Black_footed_Albatross/Black_Footed_Albatr...</td>\n",
       "      <td>1</td>\n",
       "      <td>0</td>\n",
       "      <td>1</td>\n",
       "      <td>Places365_val_00028483.jpg</td>\n",
       "      <td>Places365_val_00012727.jpg</td>\n",
       "      <td>Places365_val_00028483.jpg</td>\n",
       "    </tr>\n",
       "    <tr>\n",
       "      <th>3</th>\n",
       "      <td>4</td>\n",
       "      <td>001.Black_footed_Albatross/Black_Footed_Albatr...</td>\n",
       "      <td>1</td>\n",
       "      <td>0</td>\n",
       "      <td>1</td>\n",
       "      <td>Places365_val_00033743.jpg</td>\n",
       "      <td>Places365_val_00001816.jpg</td>\n",
       "      <td>Places365_val_00033743.jpg</td>\n",
       "    </tr>\n",
       "    <tr>\n",
       "      <th>4</th>\n",
       "      <td>5</td>\n",
       "      <td>001.Black_footed_Albatross/Black_Footed_Albatr...</td>\n",
       "      <td>1</td>\n",
       "      <td>0</td>\n",
       "      <td>1</td>\n",
       "      <td>Places365_val_00007612.jpg</td>\n",
       "      <td>Places365_val_00032547.jpg</td>\n",
       "      <td>Places365_val_00007612.jpg</td>\n",
       "    </tr>\n",
       "    <tr>\n",
       "      <th>6</th>\n",
       "      <td>7</td>\n",
       "      <td>001.Black_footed_Albatross/Black_Footed_Albatr...</td>\n",
       "      <td>1</td>\n",
       "      <td>0</td>\n",
       "      <td>1</td>\n",
       "      <td>Places365_val_00035090.jpg</td>\n",
       "      <td>Places365_val_00019775.jpg</td>\n",
       "      <td>Places365_val_00035090.jpg</td>\n",
       "    </tr>\n",
       "    <tr>\n",
       "      <th>7</th>\n",
       "      <td>8</td>\n",
       "      <td>001.Black_footed_Albatross/Black_Footed_Albatr...</td>\n",
       "      <td>1</td>\n",
       "      <td>0</td>\n",
       "      <td>1</td>\n",
       "      <td>Places365_val_00026421.jpg</td>\n",
       "      <td>Places365_val_00026061.jpg</td>\n",
       "      <td>Places365_val_00026421.jpg</td>\n",
       "    </tr>\n",
       "    <tr>\n",
       "      <th>...</th>\n",
       "      <td>...</td>\n",
       "      <td>...</td>\n",
       "      <td>...</td>\n",
       "      <td>...</td>\n",
       "      <td>...</td>\n",
       "      <td>...</td>\n",
       "      <td>...</td>\n",
       "      <td>...</td>\n",
       "    </tr>\n",
       "    <tr>\n",
       "      <th>11775</th>\n",
       "      <td>11776</td>\n",
       "      <td>200.Common_Yellowthroat/Common_Yellowthroat_00...</td>\n",
       "      <td>0</td>\n",
       "      <td>0</td>\n",
       "      <td>0</td>\n",
       "      <td>Places365_val_00017396.jpg</td>\n",
       "      <td>Places365_val_00007655.jpg</td>\n",
       "      <td>Places365_val_00007655.jpg</td>\n",
       "    </tr>\n",
       "    <tr>\n",
       "      <th>11777</th>\n",
       "      <td>11778</td>\n",
       "      <td>200.Common_Yellowthroat/Common_Yellowthroat_00...</td>\n",
       "      <td>0</td>\n",
       "      <td>0</td>\n",
       "      <td>0</td>\n",
       "      <td>Places365_val_00005536.jpg</td>\n",
       "      <td>Places365_val_00023171.jpg</td>\n",
       "      <td>Places365_val_00023171.jpg</td>\n",
       "    </tr>\n",
       "    <tr>\n",
       "      <th>11780</th>\n",
       "      <td>11781</td>\n",
       "      <td>200.Common_Yellowthroat/Common_Yellowthroat_00...</td>\n",
       "      <td>0</td>\n",
       "      <td>0</td>\n",
       "      <td>0</td>\n",
       "      <td>Places365_val_00034945.jpg</td>\n",
       "      <td>Places365_val_00001238.jpg</td>\n",
       "      <td>Places365_val_00001238.jpg</td>\n",
       "    </tr>\n",
       "    <tr>\n",
       "      <th>11781</th>\n",
       "      <td>11782</td>\n",
       "      <td>200.Common_Yellowthroat/Common_Yellowthroat_00...</td>\n",
       "      <td>0</td>\n",
       "      <td>0</td>\n",
       "      <td>0</td>\n",
       "      <td>Places365_val_00000025.jpg</td>\n",
       "      <td>Places365_val_00029344.jpg</td>\n",
       "      <td>Places365_val_00029344.jpg</td>\n",
       "    </tr>\n",
       "    <tr>\n",
       "      <th>11783</th>\n",
       "      <td>11784</td>\n",
       "      <td>200.Common_Yellowthroat/Common_Yellowthroat_00...</td>\n",
       "      <td>0</td>\n",
       "      <td>0</td>\n",
       "      <td>0</td>\n",
       "      <td>Places365_val_00032398.jpg</td>\n",
       "      <td>Places365_val_00014130.jpg</td>\n",
       "      <td>Places365_val_00014130.jpg</td>\n",
       "    </tr>\n",
       "  </tbody>\n",
       "</table>\n",
       "<p>4795 rows × 8 columns</p>\n",
       "</div>"
      ],
      "text/plain": [
       "       img_id                                       img_filename  y  split  \\\n",
       "1           2  001.Black_footed_Albatross/Black_Footed_Albatr...  1      0   \n",
       "3           4  001.Black_footed_Albatross/Black_Footed_Albatr...  1      0   \n",
       "4           5  001.Black_footed_Albatross/Black_Footed_Albatr...  1      0   \n",
       "6           7  001.Black_footed_Albatross/Black_Footed_Albatr...  1      0   \n",
       "7           8  001.Black_footed_Albatross/Black_Footed_Albatr...  1      0   \n",
       "...       ...                                                ... ..    ...   \n",
       "11775   11776  200.Common_Yellowthroat/Common_Yellowthroat_00...  0      0   \n",
       "11777   11778  200.Common_Yellowthroat/Common_Yellowthroat_00...  0      0   \n",
       "11780   11781  200.Common_Yellowthroat/Common_Yellowthroat_00...  0      0   \n",
       "11781   11782  200.Common_Yellowthroat/Common_Yellowthroat_00...  0      0   \n",
       "11783   11784  200.Common_Yellowthroat/Common_Yellowthroat_00...  0      0   \n",
       "\n",
       "       place                   water_img                    land_img  \\\n",
       "1          1  Places365_val_00028483.jpg  Places365_val_00012727.jpg   \n",
       "3          1  Places365_val_00033743.jpg  Places365_val_00001816.jpg   \n",
       "4          1  Places365_val_00007612.jpg  Places365_val_00032547.jpg   \n",
       "6          1  Places365_val_00035090.jpg  Places365_val_00019775.jpg   \n",
       "7          1  Places365_val_00026421.jpg  Places365_val_00026061.jpg   \n",
       "...      ...                         ...                         ...   \n",
       "11775      0  Places365_val_00017396.jpg  Places365_val_00007655.jpg   \n",
       "11777      0  Places365_val_00005536.jpg  Places365_val_00023171.jpg   \n",
       "11780      0  Places365_val_00034945.jpg  Places365_val_00001238.jpg   \n",
       "11781      0  Places365_val_00000025.jpg  Places365_val_00029344.jpg   \n",
       "11783      0  Places365_val_00032398.jpg  Places365_val_00014130.jpg   \n",
       "\n",
       "                      place_image  \n",
       "1      Places365_val_00028483.jpg  \n",
       "3      Places365_val_00033743.jpg  \n",
       "4      Places365_val_00007612.jpg  \n",
       "6      Places365_val_00035090.jpg  \n",
       "7      Places365_val_00026421.jpg  \n",
       "...                           ...  \n",
       "11775  Places365_val_00007655.jpg  \n",
       "11777  Places365_val_00023171.jpg  \n",
       "11780  Places365_val_00001238.jpg  \n",
       "11781  Places365_val_00029344.jpg  \n",
       "11783  Places365_val_00014130.jpg  \n",
       "\n",
       "[4795 rows x 8 columns]"
      ]
     },
     "execution_count": 15,
     "metadata": {},
     "output_type": "execute_result"
    }
   ],
   "source": [
    "df_train"
   ]
  },
  {
   "cell_type": "code",
   "execution_count": null,
   "metadata": {},
   "outputs": [],
   "source": []
  }
 ],
 "metadata": {
  "interpreter": {
   "hash": "04f9ff5b789406f1ab9da45d188b6f1e5155dc2b312f6830a4834f8513abf8c0"
  },
  "kernelspec": {
   "display_name": "Python 3.8.13 ('cs282')",
   "language": "python",
   "name": "python3"
  },
  "language_info": {
   "codemirror_mode": {
    "name": "ipython",
    "version": 3
   },
   "file_extension": ".py",
   "mimetype": "text/x-python",
   "name": "python",
   "nbconvert_exporter": "python",
   "pygments_lexer": "ipython3",
   "version": "3.8.13"
  },
  "orig_nbformat": 4
 },
 "nbformat": 4,
 "nbformat_minor": 2
}
